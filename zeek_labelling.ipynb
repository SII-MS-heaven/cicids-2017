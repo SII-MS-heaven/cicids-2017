{
 "cells": [
  {
   "cell_type": "markdown",
   "id": "a2615a39-c3d2-4aab-a808-37741a5402a0",
   "metadata": {},
   "source": [
    "## CICIDS-2017 dataset labelling\n",
    "\n",
    "**Credit**: data labelling inspired from G. Engelen's work: [_Troubleshooting an Intrusion Detection Dataset:\n",
    "the CICIDS2017 Case Study_](https://doi.org/10.1109/SPW53761.2021.00009) whose code is hosted on [Github](https://github.com/GintsEngelen/WTMC2021-Code/blob/main/labelling_CSV_flows.py)."
   ]
  },
  {
   "cell_type": "code",
   "execution_count": 1,
   "id": "7b9b8968-b45e-4fe3-a853-2998195f4b1e",
   "metadata": {},
   "outputs": [],
   "source": [
    "import os\n",
    "import pandas as pd\n",
    "\n",
    "from datetime import datetime"
   ]
  },
  {
   "cell_type": "markdown",
   "id": "b06f8eff",
   "metadata": {},
   "source": [
    "### 1. Data loading\n",
    "\n",
    "**Note**: currently only Friday is supported."
   ]
  },
  {
   "cell_type": "code",
   "execution_count": 2,
   "id": "2dfb765d",
   "metadata": {},
   "outputs": [],
   "source": [
    "exp_day = \"friday\""
   ]
  },
  {
   "cell_type": "markdown",
   "id": "6653e356-d172-4052-9ec3-d6a4ca854fe6",
   "metadata": {},
   "source": [
    "By default, `conn.log` comes with 21 features given at the beginning of the file (see [here](https://f.hubspotusercontent00.net/hubfs/8645105/Corelight_May2021/Pdf/002_CORELIGHT_080420_ZEEK_LOGS_US_ONLINE.pdf) or [there](https://www.icir.org/vern/cs261n-Sp20/slides/Protocols.pdf)):\n",
    "```sh\n",
    "$ head -n 8 friday_zeek_logs/conn.log \n",
    "#separator \\x09\n",
    "#set_separator\t,\n",
    "#empty_field\t(empty)\n",
    "#unset_field\t-\n",
    "#path\tconn\n",
    "#open\tYYYY-MM-DD-HH-MM-SS\n",
    "#fields\tts\tuid\tid.orig_h\tid.orig_p\tid.resp_h\tid.resp_p\tproto\tservice\tduration\torig_bytes\tresp_bytes\tconn_state\tlocal_orig\tlocal_resp\tmissed_bytes\thistory\torig_pkts\torig_ip_bytes\tresp_pkts\tresp_ip_bytes\ttunnel_parents\n",
    "#types\ttime\tstring\taddr\tport\taddr\tport\tenum\tstring\tinterval\tcount\tcount\tstring\tbool\tbool\tcount\tstring\tcount\tcount\tcount\tcount\tset[string]\n",
    "```"
   ]
  },
  {
   "cell_type": "markdown",
   "id": "92e17a8e",
   "metadata": {},
   "source": [
    "Build the dataframe:"
   ]
  },
  {
   "cell_type": "code",
   "execution_count": 3,
   "id": "8f3363c1-9df2-4970-b35a-1bf3b6a6bb1c",
   "metadata": {},
   "outputs": [
    {
     "name": "stdout",
     "output_type": "stream",
     "text": [
      "initial dataframe length: 547334 rows\n"
     ]
    }
   ],
   "source": [
    "# open data from zeek_logs\n",
    "path_to_log = os.path.join(os.getcwd(), f\"{exp_day}_zeek_logs\", \"conn.log\")\n",
    "header_sequence = [\"ts\", \"uid\", \"id.orig_h\", \"id.orig_p\", \"id.resp_h\", \"id.resp_p\", \"proto\",\n",
    "                   \"service\", \"duration\", \"orig_bytes\", \"resp_bytes\", \"conn_state\", \"local_orig\", \"local_resp\",\n",
    "                   \"missed_bytes\", \"history\", \"orig_pkts\", \"orig_ip_bytes\", \"resp_pkts\", \"resp_ip_bytes\", \"tunnel_parents\"]\n",
    "df = pd.read_csv(path_to_log, delimiter=\"\\t\", header=None, names=header_sequence, comment='#')\n",
    "print(f\"initial dataframe length: {df.shape[0]} rows\")\n",
    "n_rows = df.shape[0]"
   ]
  },
  {
   "cell_type": "markdown",
   "id": "5200a826",
   "metadata": {},
   "source": [
    "Add label column"
   ]
  },
  {
   "cell_type": "code",
   "execution_count": 4,
   "id": "6c0d7576",
   "metadata": {},
   "outputs": [],
   "source": [
    "df[\"label\"] = \"benign\""
   ]
  },
  {
   "cell_type": "markdown",
   "id": "b6364fd9",
   "metadata": {},
   "source": [
    "### 2. Dataset cleaning and labelling"
   ]
  },
  {
   "cell_type": "code",
   "execution_count": 5,
   "id": "e014bc70",
   "metadata": {},
   "outputs": [],
   "source": [
    "df[\"orig_bytes\"] = df[\"orig_bytes\"].replace(\"-\", \"0\")\n",
    "df[\"orig_bytes\"] = df[\"orig_bytes\"].astype(\"float32\")"
   ]
  },
  {
   "cell_type": "markdown",
   "id": "73ec7c32",
   "metadata": {},
   "source": [
    "Botnet labelling"
   ]
  },
  {
   "cell_type": "code",
   "execution_count": 6,
   "metadata": {},
   "outputs": [],
   "source": [
    "DATE_FORMAT_INTERNAL = '%d/%m/%Y %I:%M:%S %p'\n",
    "DATE_FORMAT_DATASET = '%d/%m/%Y %I:%M:%S %p'\n",
    "TIME_DIFFERENCE = 18000\n",
    "t_start = datetime.strptime('07/07/2017 09:30:00 AM', DATE_FORMAT_INTERNAL).timestamp()\n",
    "t_end = datetime.strptime('07/07/2017 12:59:59 PM', DATE_FORMAT_INTERNAL).timestamp()\n",
    "df.loc[\n",
    "       (\n",
    "           (df[\"ts\"] - TIME_DIFFERENCE >= t_start)\n",
    "           & (df[\"ts\"] - TIME_DIFFERENCE <= t_end)\n",
    "        )\n",
    "        & (\n",
    "            ((df[\"id.orig_h\"] == \"205.174.165.73\") | (df[\"id.resp_h\"]  == \"205.174.165.73\"))\n",
    "            | ((df[\"id.orig_h\"] == '192.168.10.17') & (df[\"id.resp_h\"] == '52.7.235.158'))\n",
    "            | ((df[\"id.orig_h\"] == '192.168.10.12') & (df[\"id.resp_h\"] == '52.6.13.28'))\n",
    "        )\n",
    "        & (df[\"orig_bytes\"] > 0)\n",
    "        & (df[\"proto\"] == \"tcp\"),\n",
    "        \"label\"\n",
    "    ] = \"Bot\""
   ]
  },
  {
   "cell_type": "markdown",
   "id": "09dc2353",
   "metadata": {},
   "source": [
    "Portscan labelling"
   ]
  },
  {
   "cell_type": "code",
   "execution_count": 7,
   "id": "12eef77d",
   "metadata": {},
   "outputs": [],
   "source": [
    "t_start = datetime.strptime('07/07/2017 12:30:00 PM', DATE_FORMAT_INTERNAL).timestamp()\n",
    "t_end = datetime.strptime('07/07/2017 03:40:00 PM', DATE_FORMAT_INTERNAL).timestamp()\n",
    "attacker = '172.16.0.1'\n",
    "victim = '192.168.10.50'\n",
    "df.loc[\n",
    "    ((df[\"id.orig_h\"] == attacker) & (df[\"id.resp_h\"] == victim))\n",
    "    & ((df[\"ts\"] - TIME_DIFFERENCE >= t_start) & (df[\"ts\"] - TIME_DIFFERENCE <= t_end))\n",
    "    & (df[\"proto\"] == \"tcp\")\n",
    "    , \"label\"\n",
    "] = \"portscan\""
   ]
  },
  {
   "cell_type": "markdown",
   "id": "d6085d37",
   "metadata": {},
   "source": [
    "DDOS labelling"
   ]
  },
  {
   "cell_type": "code",
   "execution_count": 8,
   "id": "35feebf9",
   "metadata": {},
   "outputs": [],
   "source": [
    "t_start = datetime.strptime('07/07/2017 03:40:00 PM', DATE_FORMAT_INTERNAL).timestamp()\n",
    "t_end = datetime.strptime('07/07/2017 04:30:00 PM', DATE_FORMAT_INTERNAL).timestamp()\n",
    "attacker = '172.16.0.1'\n",
    "victim = '192.168.10.50'\n",
    "df.loc[\n",
    "    ((df[\"id.orig_h\"] == attacker) & (df[\"id.resp_h\"] == victim))\n",
    "    & ((df[\"ts\"] - TIME_DIFFERENCE >= t_start) & (df[\"ts\"] - TIME_DIFFERENCE <= t_end))\n",
    "    & (df[\"proto\"] == \"tcp\"),\n",
    "    \"label\"\n",
    "] = \"ddos\""
   ]
  },
  {
   "cell_type": "code",
   "execution_count": 9,
   "metadata": {},
   "outputs": [
    {
     "data": {
      "text/plain": [
       "label\n",
       "benign      290779\n",
       "portscan    160134\n",
       "ddos         95683\n",
       "Bot            738\n",
       "Name: count, dtype: int64"
      ]
     },
     "execution_count": 9,
     "metadata": {},
     "output_type": "execute_result"
    }
   ],
   "source": [
    "# print attack statistics\n",
    "df[\"label\"].value_counts()"
   ]
  },
  {
   "cell_type": "markdown",
   "id": "1b295578",
   "metadata": {},
   "source": [
    "The next steps consists in dropping unnecessary features and replacing non-numerical values with hot-encoded arrays:"
   ]
  },
  {
   "cell_type": "code",
   "execution_count": 10,
   "id": "eb037d23",
   "metadata": {},
   "outputs": [
    {
     "name": "stdout",
     "output_type": "stream",
     "text": [
      "resulting number of input features: 27\n"
     ]
    }
   ],
   "source": [
    "# drop features\n",
    "features_to_drop = [\n",
    "    \"ts\", \"uid\",\n",
    "    \"id.orig_h\", \"id.orig_p\", \"id.resp_h\", \"id.resp_p\",\n",
    "    \"service\", \"history\", \"tunnel_parents\"\n",
    "]\n",
    "[df.drop(columns=f, inplace=True) for f in features_to_drop if f in df.columns]\n",
    "\n",
    "# hot encode literal features\n",
    "hot_encoded_features = [\"proto\", \"local_orig\", \"local_resp\", \"conn_state\"]\n",
    "for f in hot_encoded_features:\n",
    "    if f in df.columns:\n",
    "        df = pd.get_dummies(df, columns = [f], dtype=float)\n",
    "print(f\"resulting number of input features: {len(df.columns) - 1}\")"
   ]
  },
  {
   "cell_type": "code",
   "execution_count": 11,
   "id": "f36115f8",
   "metadata": {},
   "outputs": [
    {
     "name": "stdout",
     "output_type": "stream",
     "text": [
      "retained input features: \n",
      "--> duration\n",
      "--> orig_bytes\n",
      "--> resp_bytes\n",
      "--> missed_bytes\n",
      "--> orig_pkts\n",
      "--> orig_ip_bytes\n",
      "--> resp_pkts\n",
      "--> resp_ip_bytes\n",
      "--> proto_icmp\n",
      "--> proto_tcp\n",
      "--> proto_udp\n",
      "--> local_orig_F\n",
      "--> local_orig_T\n",
      "--> local_resp_F\n",
      "--> local_resp_T\n",
      "--> conn_state_OTH\n",
      "--> conn_state_REJ\n",
      "--> conn_state_RSTO\n",
      "--> conn_state_RSTR\n",
      "--> conn_state_RSTRH\n",
      "--> conn_state_S0\n",
      "--> conn_state_S1\n",
      "--> conn_state_S2\n",
      "--> conn_state_S3\n",
      "--> conn_state_SF\n",
      "--> conn_state_SH\n",
      "--> conn_state_SHR\n"
     ]
    }
   ],
   "source": [
    "print(f\"retained input features: \\n--> %s\" %'\\n--> '.join([f for f in df.columns if f!= \"label\"]))"
   ]
  },
  {
   "cell_type": "markdown",
   "id": "00982ce3",
   "metadata": {},
   "source": [
    "Non-defined inputs are replaced by null values and all input features are finally converted to floats:"
   ]
  },
  {
   "cell_type": "code",
   "execution_count": 12,
   "id": "dd2a628c",
   "metadata": {},
   "outputs": [
    {
     "name": "stdout",
     "output_type": "stream",
     "text": [
      "replaced dash character with 0 in duration\n",
      "replaced dash character with 0 in resp_bytes\n"
     ]
    }
   ],
   "source": [
    "for f in df.columns:\n",
    "    if \"-\" in df[f].unique():\n",
    "        df[f] = df[f].replace(\"-\", \"0\")\n",
    "        print(f\"replaced dash character with 0 in {f}\")"
   ]
  },
  {
   "cell_type": "code",
   "execution_count": 13,
   "id": "0aefcbaf",
   "metadata": {},
   "outputs": [],
   "source": [
    "for f in df.columns:\n",
    "    if f != \"label\":\n",
    "        df[f] = df[f].astype(\"float32\")"
   ]
  },
  {
   "cell_type": "markdown",
   "id": "e38c58bb",
   "metadata": {},
   "source": [
    "The dataset can finally be exported"
   ]
  },
  {
   "cell_type": "code",
   "execution_count": 14,
   "id": "2f15975f",
   "metadata": {},
   "outputs": [],
   "source": [
    "df.to_csv(f\"{exp_day}_dataset.csv\", index=False)"
   ]
  }
 ],
 "metadata": {
  "kernelspec": {
   "display_name": "Python 3 (ipykernel)",
   "language": "python",
   "name": "python3"
  },
  "language_info": {
   "codemirror_mode": {
    "name": "ipython",
    "version": 3
   },
   "file_extension": ".py",
   "mimetype": "text/x-python",
   "name": "python",
   "nbconvert_exporter": "python",
   "pygments_lexer": "ipython3",
   "version": "3.10.12"
  }
 },
 "nbformat": 4,
 "nbformat_minor": 5
}
